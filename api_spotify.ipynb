{
 "cells": [
  {
   "cell_type": "markdown",
   "metadata": {},
   "source": [
    "<h1 style=\"font-family:Halvetica, sans-serif; color:#233051;text-align:center;font-size:44px\">API SPOTIFY + PYTHON + MONGODB + Neo4J</h1>"
   ]
  },
  {
   "cell_type": "code",
   "execution_count": 15,
   "metadata": {},
   "outputs": [],
   "source": [
    "import spotipy\n",
    "from spotipy.oauth2 import SpotifyClientCredentials\n",
    "import json\n",
    "import fileinput\n",
    "import re\n",
    "from pprint import pprint\n",
    "import json\n",
    "import pandas as pd\n",
    "from ipykernel import kernelapp as app\n",
    "app.launch_new_instance\n",
    "from pymongo import MongoClient\n",
    "import sys\n",
    "import tqdm\n",
    "from itertools import izip"
   ]
  },
  {
   "cell_type": "markdown",
   "metadata": {},
   "source": [
    "<h1 style=\"font-family:Halvetica, sans-serif; color:#009547;text-align:left;font-size:20px\">====== CALL API SPOTIFY DEV WIT PYTHON <i>(SPOTIPY)</i> ======</h1>\n",
    "\n",
    "<ul style=\"font-family:Halvetica, sans-serif; color:#658734;text-align:left;font-size:15px\">\n",
    "    <li>Function <i>api_to_datafram</i>take 4 params(not nicessary)</li>\n",
    "</ul>"
   ]
  },
  {
   "cell_type": "code",
   "execution_count": 19,
   "metadata": {},
   "outputs": [],
   "source": [
    "def api_to_DataFrame(epochs=200, year=2018, type_='track', limit_=50):\n",
    "    \n",
    "    # Scerect id + client_id (to kep conection UP)\n",
    "    cid =\"b7e280e5107441f586f666e17be0861a\"\n",
    "    secret = \"3798e902795248c8b4352ffcd4fec6f7\"\n",
    "\n",
    "    client_credentials_manager = SpotifyClientCredentials(client_id=cid, client_secret=secret)\n",
    "    sp = spotipy.Spotify(client_credentials_manager=client_credentials_manager)\n",
    "\n",
    "    track_id = track_name = popularity = artist_name = []\n",
    "    all_result = []\n",
    "    for i in tqdm.tqdm_notebook(range(50,epochs, 50)):\n",
    "\n",
    "        track_results_A = sp.search(q='year:{}'.format(year), type=type_, limit=limit_,offset=i)\n",
    "\n",
    "        all_items = track_results_A['tracks']['items']\n",
    "        items_to_json = json.dumps(all_items)\n",
    "        df= pd.read_json(items_to_json)\n",
    "\n",
    "        yield df"
   ]
  },
  {
   "cell_type": "markdown",
   "metadata": {},
   "source": [
    "<h1 style=\"font-family:Halvetica, sans-serif; color:#009547;text-align:left;font-size:20px\">====== CONNECTION TO DATABASE [MongoDB] <i>(PYMONGO)</i> ======</h1>\n",
    "\n",
    "<ul style=\"font-family:Halvetica, sans-serif; color:#658734;text-align:left;font-size:15px\">\n",
    "    <li>Function <i>connect_to_mongo_db </i>take 1 param [name of database]</li>\n",
    "</ul"
   ]
  },
  {
   "cell_type": "code",
   "execution_count": 21,
   "metadata": {},
   "outputs": [],
   "source": [
    "def connect_to_mongo_db(data_base):\n",
    "    try:\n",
    "        client = MongoClient('localhost:27017')\n",
    "        db = client[data_base]\n",
    "        return db\n",
    "    except Exception as e:\n",
    "        \n",
    "        print(e)\n",
    "\n",
    "db = connect_to_mongo_db('spotify_nosql')"
   ]
  },
  {
   "cell_type": "markdown",
   "metadata": {},
   "source": [
    "<h1 style=\"font-family:Halvetica, sans-serif; color:#009547;text-align:left;font-size:20px\">====== DATAFRAME TO DB [MongoDB] <i>(PANDAS)</i> ======</h1>\n",
    "\n",
    "<ul style=\"font-family:Halvetica, sans-serif; color:#658734;text-align:left;font-size:15px\">\n",
    "    <li>Function <i>df_to_mongo_db </i>take 1 param [name of collection who need to create]</li>\n",
    "</ul>"
   ]
  },
  {
   "cell_type": "code",
   "execution_count": 18,
   "metadata": {},
   "outputs": [
    {
     "data": {
      "application/vnd.jupyter.widget-view+json": {
       "model_id": "17cd265e76054889bcf7235f4eb99e6c",
       "version_major": 2,
       "version_minor": 0
      },
      "text/plain": [
       "HBox(children=(IntProgress(value=0, max=3), HTML(value=u'')))"
      ]
     },
     "metadata": {},
     "output_type": "display_data"
    },
    {
     "data": {
      "application/vnd.jupyter.widget-view+json": {
       "model_id": "6bcd11d446ae47c39ac8bb11089f1fa0",
       "version_major": 2,
       "version_minor": 0
      },
      "text/plain": [
       "HBox(children=(IntProgress(value=0, max=50), HTML(value=u'')))"
      ]
     },
     "metadata": {},
     "output_type": "display_data"
    },
    {
     "name": "stdout",
     "output_type": "stream",
     "text": [
      "One post: 5d1e5267a12b4cd9767f0723\n",
      "One post: 5d1e5268a12b4cd9767f0724\n",
      "One post: 5d1e5268a12b4cd9767f0725\n",
      "One post: 5d1e5268a12b4cd9767f0726\n",
      "One post: 5d1e5268a12b4cd9767f0727\n",
      "One post: 5d1e5268a12b4cd9767f0728\n",
      "One post: 5d1e5268a12b4cd9767f0729\n",
      "One post: 5d1e5268a12b4cd9767f072a\n",
      "One post: 5d1e5268a12b4cd9767f072b\n",
      "One post: 5d1e5268a12b4cd9767f072c\n",
      "One post: 5d1e5268a12b4cd9767f072d\n",
      "One post: 5d1e5268a12b4cd9767f072e\n",
      "One post: 5d1e5268a12b4cd9767f072f\n",
      "One post: 5d1e5268a12b4cd9767f0730\n",
      "One post: 5d1e5268a12b4cd9767f0731\n",
      "One post: 5d1e5268a12b4cd9767f0732\n",
      "One post: 5d1e5268a12b4cd9767f0733\n",
      "One post: 5d1e5268a12b4cd9767f0734\n",
      "One post: 5d1e5268a12b4cd9767f0735\n",
      "One post: 5d1e5268a12b4cd9767f0736\n",
      "One post: 5d1e5268a12b4cd9767f0737\n",
      "One post: 5d1e5268a12b4cd9767f0738\n",
      "One post: 5d1e5268a12b4cd9767f0739\n",
      "One post: 5d1e5268a12b4cd9767f073a\n",
      "One post: 5d1e5268a12b4cd9767f073b\n",
      "One post: 5d1e5268a12b4cd9767f073c\n",
      "One post: 5d1e5268a12b4cd9767f073d\n",
      "One post: 5d1e5268a12b4cd9767f073e\n",
      "One post: 5d1e5268a12b4cd9767f073f\n",
      "One post: 5d1e5268a12b4cd9767f0740\n",
      "One post: 5d1e5268a12b4cd9767f0741\n",
      "One post: 5d1e5268a12b4cd9767f0742\n",
      "One post: 5d1e5268a12b4cd9767f0743\n",
      "One post: 5d1e5268a12b4cd9767f0744\n",
      "One post: 5d1e5268a12b4cd9767f0745\n",
      "One post: 5d1e5268a12b4cd9767f0746\n",
      "One post: 5d1e5268a12b4cd9767f0747\n",
      "One post: 5d1e5268a12b4cd9767f0748\n",
      "One post: 5d1e5268a12b4cd9767f0749\n",
      "One post: 5d1e5268a12b4cd9767f074a\n",
      "One post: 5d1e5268a12b4cd9767f074b\n",
      "One post: 5d1e5268a12b4cd9767f074c\n",
      "One post: 5d1e5268a12b4cd9767f074d\n",
      "One post: 5d1e5268a12b4cd9767f074e\n",
      "One post: 5d1e5268a12b4cd9767f074f\n",
      "One post: 5d1e5268a12b4cd9767f0750\n",
      "One post: 5d1e5268a12b4cd9767f0751\n",
      "One post: 5d1e5268a12b4cd9767f0752\n",
      "One post: 5d1e5268a12b4cd9767f0753\n",
      "One post: 5d1e5268a12b4cd9767f0754\n"
     ]
    },
    {
     "data": {
      "application/vnd.jupyter.widget-view+json": {
       "model_id": "b33aa740fde74d6b9ed5e1c361ee43a4",
       "version_major": 2,
       "version_minor": 0
      },
      "text/plain": [
       "HBox(children=(IntProgress(value=0, max=50), HTML(value=u'')))"
      ]
     },
     "metadata": {},
     "output_type": "display_data"
    },
    {
     "name": "stdout",
     "output_type": "stream",
     "text": [
      "One post: 5d1e526ca12b4cd9767f0755\n",
      "One post: 5d1e526ca12b4cd9767f0756\n",
      "One post: 5d1e526ca12b4cd9767f0757\n",
      "One post: 5d1e526ca12b4cd9767f0758\n",
      "One post: 5d1e526ca12b4cd9767f0759\n",
      "One post: 5d1e526ca12b4cd9767f075a\n",
      "One post: 5d1e526ca12b4cd9767f075b\n",
      "One post: 5d1e526ca12b4cd9767f075c\n",
      "One post: 5d1e526ca12b4cd9767f075d\n",
      "One post: 5d1e526ca12b4cd9767f075e\n",
      "One post: 5d1e526ca12b4cd9767f075f\n",
      "One post: 5d1e526ca12b4cd9767f0760\n",
      "One post: 5d1e526ca12b4cd9767f0761\n",
      "One post: 5d1e526ca12b4cd9767f0762\n",
      "One post: 5d1e526ca12b4cd9767f0763\n",
      "One post: 5d1e526ca12b4cd9767f0764\n",
      "One post: 5d1e526ca12b4cd9767f0765\n",
      "One post: 5d1e526ca12b4cd9767f0766\n",
      "One post: 5d1e526ca12b4cd9767f0767\n",
      "One post: 5d1e526ca12b4cd9767f0768\n",
      "One post: 5d1e526ca12b4cd9767f0769\n",
      "One post: 5d1e526ca12b4cd9767f076a\n",
      "One post: 5d1e526ca12b4cd9767f076b\n",
      "One post: 5d1e526ca12b4cd9767f076c\n",
      "One post: 5d1e526ca12b4cd9767f076d\n",
      "One post: 5d1e526ca12b4cd9767f076e\n",
      "One post: 5d1e526ca12b4cd9767f076f\n",
      "One post: 5d1e526ca12b4cd9767f0770\n",
      "One post: 5d1e526ca12b4cd9767f0771\n",
      "One post: 5d1e526ca12b4cd9767f0772\n",
      "One post: 5d1e526ca12b4cd9767f0773\n",
      "One post: 5d1e526ca12b4cd9767f0774\n",
      "One post: 5d1e526ca12b4cd9767f0775\n",
      "One post: 5d1e526ca12b4cd9767f0776\n",
      "One post: 5d1e526ca12b4cd9767f0777\n",
      "One post: 5d1e526ca12b4cd9767f0778\n",
      "One post: 5d1e526ca12b4cd9767f0779\n",
      "One post: 5d1e526ca12b4cd9767f077a\n",
      "One post: 5d1e526ca12b4cd9767f077b\n",
      "One post: 5d1e526ca12b4cd9767f077c\n",
      "One post: 5d1e526ca12b4cd9767f077d\n",
      "One post: 5d1e526ca12b4cd9767f077e\n",
      "One post: 5d1e526ca12b4cd9767f077f\n",
      "One post: 5d1e526ca12b4cd9767f0780\n",
      "One post: 5d1e526ca12b4cd9767f0781\n",
      "One post: 5d1e526ca12b4cd9767f0782\n",
      "One post: 5d1e526ca12b4cd9767f0783\n",
      "One post: 5d1e526ca12b4cd9767f0784\n",
      "One post: 5d1e526ca12b4cd9767f0785\n",
      "One post: 5d1e526ca12b4cd9767f0786\n"
     ]
    },
    {
     "data": {
      "application/vnd.jupyter.widget-view+json": {
       "model_id": "98a6fd43ceaf47ba9c59b7a0aaf29797",
       "version_major": 2,
       "version_minor": 0
      },
      "text/plain": [
       "HBox(children=(IntProgress(value=0, max=50), HTML(value=u'')))"
      ]
     },
     "metadata": {},
     "output_type": "display_data"
    },
    {
     "name": "stdout",
     "output_type": "stream",
     "text": [
      "One post: 5d1e526fa12b4cd9767f0787\n",
      "One post: 5d1e526fa12b4cd9767f0788\n",
      "One post: 5d1e526fa12b4cd9767f0789\n",
      "One post: 5d1e526fa12b4cd9767f078a\n",
      "One post: 5d1e526fa12b4cd9767f078b\n",
      "One post: 5d1e526fa12b4cd9767f078c\n",
      "One post: 5d1e526fa12b4cd9767f078d\n",
      "One post: 5d1e5270a12b4cd9767f078e\n",
      "One post: 5d1e5270a12b4cd9767f078f\n",
      "One post: 5d1e5270a12b4cd9767f0790\n",
      "One post: 5d1e5270a12b4cd9767f0791\n",
      "One post: 5d1e5270a12b4cd9767f0792\n",
      "One post: 5d1e5270a12b4cd9767f0793\n",
      "One post: 5d1e5270a12b4cd9767f0794\n",
      "One post: 5d1e5270a12b4cd9767f0795\n",
      "One post: 5d1e5270a12b4cd9767f0796\n",
      "One post: 5d1e5270a12b4cd9767f0797\n",
      "One post: 5d1e5270a12b4cd9767f0798\n",
      "One post: 5d1e5270a12b4cd9767f0799\n",
      "One post: 5d1e5270a12b4cd9767f079a\n",
      "One post: 5d1e5270a12b4cd9767f079b\n",
      "One post: 5d1e5270a12b4cd9767f079c\n",
      "One post: 5d1e5270a12b4cd9767f079d\n",
      "One post: 5d1e5270a12b4cd9767f079e\n",
      "One post: 5d1e5270a12b4cd9767f079f\n",
      "One post: 5d1e5270a12b4cd9767f07a0\n",
      "One post: 5d1e5270a12b4cd9767f07a1\n",
      "One post: 5d1e5270a12b4cd9767f07a2\n",
      "One post: 5d1e5270a12b4cd9767f07a3\n",
      "One post: 5d1e5270a12b4cd9767f07a4\n",
      "One post: 5d1e5270a12b4cd9767f07a5\n",
      "One post: 5d1e5270a12b4cd9767f07a6\n",
      "One post: 5d1e5270a12b4cd9767f07a7\n",
      "One post: 5d1e5270a12b4cd9767f07a8\n",
      "One post: 5d1e5270a12b4cd9767f07a9\n",
      "One post: 5d1e5270a12b4cd9767f07aa\n",
      "One post: 5d1e5270a12b4cd9767f07ab\n",
      "One post: 5d1e5270a12b4cd9767f07ac\n",
      "One post: 5d1e5270a12b4cd9767f07ad\n",
      "One post: 5d1e5270a12b4cd9767f07ae\n",
      "One post: 5d1e5270a12b4cd9767f07af\n",
      "One post: 5d1e5270a12b4cd9767f07b0\n",
      "One post: 5d1e5270a12b4cd9767f07b1\n",
      "One post: 5d1e5270a12b4cd9767f07b2\n",
      "One post: 5d1e5270a12b4cd9767f07b3\n",
      "One post: 5d1e5270a12b4cd9767f07b4\n",
      "One post: 5d1e5270a12b4cd9767f07b5\n",
      "One post: 5d1e5270a12b4cd9767f07b6\n",
      "One post: 5d1e5270a12b4cd9767f07b7\n",
      "One post: 5d1e5270a12b4cd9767f07b8\n"
     ]
    }
   ],
   "source": [
    "def df_to_mongo_db(collection_name='Tracks'):\n",
    "    \n",
    "    try:\n",
    "        \n",
    "        db = connect_to_mongo_db('spotify_nosql')\n",
    "        for df in api_to_DataFrame(year=2016, epochs=200):\n",
    "            head = list(df.columns.values)\n",
    "            for row in tqdm.tqdm_notebook(df.values):\n",
    "                row = iter(row)\n",
    "                dict_items = dict(izip(head, row))\n",
    "                result = db[collection_name].insert_one(dict_items)\n",
    "                print('One post: {0}'.format(result.inserted_id))\n",
    "    except Exception as e:\n",
    "    \n",
    "        print(e)\n",
    "        \n",
    "df_to_mongo_db()"
   ]
  },
  {
   "cell_type": "markdown",
   "metadata": {},
   "source": [
    "<h1 style=\"font-family:Halvetica, sans-serif; color:#009547;text-align:left;font-size:20px\">====== REMOVE COLLECTION BY NAME <i>(PYMONGO)</i> ======</h1>\n",
    "\n",
    "<ul style=\"font-family:Halvetica, sans-serif; color:#658734;text-align:left;font-size:15px\">\n",
    "    <li>Function <i>connect_to_mongo_db </i>take 2 params [database and name of collection]</li>\n",
    "</ul>"
   ]
  },
  {
   "cell_type": "code",
   "execution_count": 23,
   "metadata": {},
   "outputs": [
    {
     "name": "stderr",
     "output_type": "stream",
     "text": [
      "/usr/local/lib/python2.7/dist-packages/ipykernel_launcher.py:5: DeprecationWarning: remove is deprecated. Use delete_one or delete_many instead.\n",
      "  \"\"\"\n"
     ]
    }
   ],
   "source": [
    "def remove_collection(db, collection):\n",
    "    \n",
    "    try:\n",
    "        \n",
    "        db[collection].remove()\n",
    "    except Exception as e:\n",
    "        print(e)\n",
    "        \n",
    "remove_collection(db,'Tracks')"
   ]
  },
  {
   "cell_type": "markdown",
   "metadata": {},
   "source": [
    "<h1 style=\"font-family:Halvetica, sans-serif; color:#233051;text-align:center;font-size:44px\">HOW TO USE MONGODB WITH PYTHON</h1>\n",
    "\n",
    "\n",
    "<h1 style=\"font-family:Halvetica, sans-serif; color:#009547;text-align:left;font-size:20px\">====== ADD POSTS ======</h1>"
   ]
  },
  {
   "cell_type": "markdown",
   "metadata": {},
   "source": [
    "<ul style=\"font-family:Halvetica, sans-serif; color:#658734;text-align:left;font-size:15px\">\n",
    "    <li><span style=\"color:#ff5733\">post_1</span> = {\n",
    "            'title': 'Python and MongoDB',\n",
    "            'content': 'PyMongo is fun, you guys',\n",
    "            'author': 'Scott'\n",
    "        }\n",
    "    </li>\n",
    "    <li><span style=\"color:#ff5733\">post_2</span> = {\n",
    "            'title': 'Virtual Environments',\n",
    "            'content': 'Use virtual environments, you guys',\n",
    "            'author': 'Scott'\n",
    "        }\n",
    "    </li>\n",
    "    <li><span style=\"color:#ff5733\">post_3</span> = {\n",
    "            'title': 'Learning Python',\n",
    "            'content': 'Learn Python, it is easy',\n",
    "            'author': 'Bill'\n",
    "        }\n",
    "    </li>\n",
    "    <li><span style=\"color:#ff5733\">new_result</span> = db.posts.insert_many([post_1, post_2, post_3])</li>\n",
    "    <li><span style=\"color:#ff5733\">print</span>('Multiple posts: {0}'.format(new_result.inserted_ids))</li>\n",
    "</ul>\n",
    "\n",
    "new_result = db.posts.insert_many([post_1, post_2, post_3])\n",
    "print('Multiple posts: {0}'.format(new_result.inserted_ids))\n",
    "\n",
    "\n",
    "### FIND THE POSTS CREATED\n",
    "\n",
    "posts = db.posts.find()\n",
    "for post in posts:\n",
    "    print(post)\n",
    "    \n",
    "\n",
    "### REMOVE COLLECTION\n",
    "\n",
    "db.[collection_name].remove()"
   ]
  },
  {
   "cell_type": "code",
   "execution_count": 22,
   "metadata": {},
   "outputs": [],
   "source": [
    "def display_find(db, collection, one=False):\n",
    "    \n",
    "    if not one:\n",
    "        \n",
    "        db[collection].find_one()"
   ]
  },
  {
   "cell_type": "code",
   "execution_count": null,
   "metadata": {},
   "outputs": [],
   "source": []
  }
 ],
 "metadata": {
  "kernelspec": {
   "display_name": "Python 2",
   "language": "python",
   "name": "python2"
  },
  "language_info": {
   "codemirror_mode": {
    "name": "ipython",
    "version": 2
   },
   "file_extension": ".py",
   "mimetype": "text/x-python",
   "name": "python",
   "nbconvert_exporter": "python",
   "pygments_lexer": "ipython2",
   "version": "2.7.13"
  }
 },
 "nbformat": 4,
 "nbformat_minor": 2
}
