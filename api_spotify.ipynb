{
 "cells": [
  {
   "cell_type": "markdown",
   "metadata": {},
   "source": [
    "## API SPOTIFY + PYTHON + MONGODB"
   ]
  },
  {
   "cell_type": "code",
   "execution_count": 2,
   "metadata": {},
   "outputs": [],
   "source": [
    "import os\n",
    "import sys\n",
    "import json\n",
    "import spotipy\n",
    "import webbrowser\n",
    "import spotipy.util as util\n",
    "from simplejson import JSONDecodeError"
   ]
  },
  {
   "cell_type": "code",
   "execution_count": 3,
   "metadata": {},
   "outputs": [
    {
     "name": "stdout",
     "output_type": "stream",
     "text": [
      "\n",
      "            You need to set your Spotify API credentials. You can do this by\n",
      "            setting environment variables like so:\n",
      "\n",
      "            export SPOTIPY_CLIENT_ID='your-spotify-client-id'\n",
      "            export SPOTIPY_CLIENT_SECRET='your-spotify-client-secret'\n",
      "            export SPOTIPY_REDIRECT_URI='your-app-redirect-url'\n",
      "\n",
      "            Get your credentials at     \n",
      "                https://developer.spotify.com/my-applications\n",
      "        \n"
     ]
    },
    {
     "ename": "SpotifyException",
     "evalue": "http status: 550, code:-1 - no credentials set",
     "output_type": "error",
     "traceback": [
      "\u001b[0;31m---------------------------------------------------------------------------\u001b[0m",
      "\u001b[0;31mSpotifyException\u001b[0m                          Traceback (most recent call last)",
      "\u001b[0;32m<ipython-input-3-e530f510bd19>\u001b[0m in \u001b[0;36m<module>\u001b[0;34m()\u001b[0m\n\u001b[1;32m      7\u001b[0m \u001b[0;31m# Erase cache and prompt for user permission\u001b[0m\u001b[0;34m\u001b[0m\u001b[0;34m\u001b[0m\u001b[0m\n\u001b[1;32m      8\u001b[0m \u001b[0;32mtry\u001b[0m\u001b[0;34m:\u001b[0m\u001b[0;34m\u001b[0m\u001b[0m\n\u001b[0;32m----> 9\u001b[0;31m     \u001b[0mtoken\u001b[0m \u001b[0;34m=\u001b[0m \u001b[0mutil\u001b[0m\u001b[0;34m.\u001b[0m\u001b[0mprompt_for_user_token\u001b[0m\u001b[0;34m(\u001b[0m\u001b[0musername\u001b[0m\u001b[0;34m)\u001b[0m \u001b[0;31m# add scope\u001b[0m\u001b[0;34m\u001b[0m\u001b[0m\n\u001b[0m\u001b[1;32m     10\u001b[0m \u001b[0;32mexcept\u001b[0m \u001b[0;34m(\u001b[0m\u001b[0mAttributeError\u001b[0m\u001b[0;34m,\u001b[0m \u001b[0mJSONDecodeError\u001b[0m\u001b[0;34m)\u001b[0m\u001b[0;34m:\u001b[0m\u001b[0;34m\u001b[0m\u001b[0m\n\u001b[1;32m     11\u001b[0m     \u001b[0mos\u001b[0m\u001b[0;34m.\u001b[0m\u001b[0mremove\u001b[0m\u001b[0;34m(\u001b[0m\u001b[0;34m\".cache-{}\"\u001b[0m\u001b[0;34m.\u001b[0m\u001b[0mformat\u001b[0m\u001b[0;34m(\u001b[0m\u001b[0musername\u001b[0m\u001b[0;34m)\u001b[0m\u001b[0;34m)\u001b[0m\u001b[0;34m\u001b[0m\u001b[0m\n",
      "\u001b[0;32m/usr/local/lib/python2.7/dist-packages/spotipy/util.pyc\u001b[0m in \u001b[0;36mprompt_for_user_token\u001b[0;34m(username, scope, client_id, client_secret, redirect_uri)\u001b[0m\n\u001b[1;32m     45\u001b[0m                 \u001b[0mhttps\u001b[0m\u001b[0;34m:\u001b[0m\u001b[0;34m//\u001b[0m\u001b[0mdeveloper\u001b[0m\u001b[0;34m.\u001b[0m\u001b[0mspotify\u001b[0m\u001b[0;34m.\u001b[0m\u001b[0mcom\u001b[0m\u001b[0;34m/\u001b[0m\u001b[0mmy\u001b[0m\u001b[0;34m-\u001b[0m\u001b[0mapplications\u001b[0m\u001b[0;34m\u001b[0m\u001b[0m\n\u001b[1;32m     46\u001b[0m         ''')\n\u001b[0;32m---> 47\u001b[0;31m         \u001b[0;32mraise\u001b[0m \u001b[0mspotipy\u001b[0m\u001b[0;34m.\u001b[0m\u001b[0mSpotifyException\u001b[0m\u001b[0;34m(\u001b[0m\u001b[0;36m550\u001b[0m\u001b[0;34m,\u001b[0m \u001b[0;34m-\u001b[0m\u001b[0;36m1\u001b[0m\u001b[0;34m,\u001b[0m \u001b[0;34m'no credentials set'\u001b[0m\u001b[0;34m)\u001b[0m\u001b[0;34m\u001b[0m\u001b[0m\n\u001b[0m\u001b[1;32m     48\u001b[0m \u001b[0;34m\u001b[0m\u001b[0m\n\u001b[1;32m     49\u001b[0m     sp_oauth = oauth2.SpotifyOAuth(client_id, client_secret, redirect_uri, \n",
      "\u001b[0;31mSpotifyException\u001b[0m: http status: 550, code:-1 - no credentials set"
     ]
    }
   ],
   "source": [
    "#spotify:user:b83icoww1uhwplsp488xnufy3\n",
    "\n",
    "# Get the username from terminal\n",
    "username = sys.argv[1]\n",
    "username = 'b83icoww1uhwplsp488xnufy3'\n",
    "\n",
    "# Erase cache and prompt for user permission\n",
    "try:\n",
    "    token = util.prompt_for_user_token(username) # add scope\n",
    "except (AttributeError, JSONDecodeError):\n",
    "    os.remove(\".cache-{}\".format(username))\n",
    "    token = util.prompt_for_user_token(username) # add scope\n",
    "\n",
    "# Create our spotify object with permissions\n",
    "spotifyObject = spotipy.Spotify(auth=token)\n",
    "\n",
    "user = spotifyObject.current_user()\n",
    "print(json.dumps(user, sort_keys=True, indent=4))\n",
    "\n",
    "displayName=user['display_name']\n",
    "followers = user['followers']['total']\n",
    "\n",
    "print(\"================= {} =================\".format(displayName))\n",
    "print(\"================= {} =================\".format(followers))"
   ]
  },
  {
   "cell_type": "code",
   "execution_count": null,
   "metadata": {},
   "outputs": [],
   "source": []
  }
 ],
 "metadata": {
  "kernelspec": {
   "display_name": "Python 2",
   "language": "python",
   "name": "python2"
  },
  "language_info": {
   "codemirror_mode": {
    "name": "ipython",
    "version": 2
   },
   "file_extension": ".py",
   "mimetype": "text/x-python",
   "name": "python",
   "nbconvert_exporter": "python",
   "pygments_lexer": "ipython2",
   "version": "2.7.13"
  }
 },
 "nbformat": 4,
 "nbformat_minor": 2
}
